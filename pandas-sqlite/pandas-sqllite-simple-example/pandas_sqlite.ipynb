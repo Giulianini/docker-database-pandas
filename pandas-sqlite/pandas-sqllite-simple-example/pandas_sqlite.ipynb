{
 "cells": [
  {
   "cell_type": "code",
   "execution_count": 1,
   "id": "92079b3f",
   "metadata": {},
   "outputs": [],
   "source": [
    "import pandas as pd\n",
    "import sqlite3"
   ]
  },
  {
   "cell_type": "code",
   "execution_count": 2,
   "id": "75cc882e",
   "metadata": {},
   "outputs": [
    {
     "name": "stdout",
     "output_type": "stream",
     "text": [
      "   book_id  author_id                                              title\n",
      "0        1          1                                         Foundation\n",
      "1        2          2                                     The Good Earth\n",
      "2        3          3                           The Hunt For Red October\n",
      "3        4          3                                      Patriot Games\n",
      "4        5          4                                                 It\n",
      "5        6          4                                          Dead Zone\n",
      "6        7          4                                        The Shining\n",
      "7        8          5  Tinker, Tailor, Solider, Spy: A George Smiley ...\n",
      "8        9          6                                 The Silent Patient\n",
      "9       10          7                                     Into The Abyss\n",
      "   author_id first_name    last_name\n",
      "0          1      Isaac       Asimov\n",
      "1          2      Pearl         Buck\n",
      "2          3        Tom       Clancy\n",
      "3          4    Stephen         King\n",
      "4          5       John     Le Carre\n",
      "5          6       Alex  Michaelides\n",
      "6          7      Carol       Shaben\n",
      "   publisher_id                  name\n",
      "0             1          Random House\n",
      "1             2      Simon & Schuster\n",
      "2             3               Berkley\n",
      "3             4  Penguin Random House\n"
     ]
    }
   ],
   "source": [
    "con = sqlite3.connect(\"author_book_publisher.db\")\n",
    "\n",
    "# Load the data into a DataFrame\n",
    "df_book = pd.read_sql_query(\"SELECT * from book\", con)\n",
    "print(df_book)\n",
    "\n",
    "df_author = pd.read_sql_query(\"SELECT * from author\", con)\n",
    "print(df_author)\n",
    "\n",
    "df_publisher = pd.read_sql_query(\"SELECT * from publisher\", con)\n",
    "print(df_publisher)\n",
    "\n",
    "con.close()"
   ]
  }
 ],
 "metadata": {
  "kernelspec": {
   "display_name": "Python 3.8.13 ('conda-env')",
   "language": "python",
   "name": "python3"
  },
  "language_info": {
   "codemirror_mode": {
    "name": "ipython",
    "version": 3
   },
   "file_extension": ".py",
   "mimetype": "text/x-python",
   "name": "python",
   "nbconvert_exporter": "python",
   "pygments_lexer": "ipython3",
   "version": "3.8.13"
  },
  "vscode": {
   "interpreter": {
    "hash": "6abb31d7ba32fd26b83180b124ea13c4fd3a84910a083981cbdbecc0970bed5f"
   }
  }
 },
 "nbformat": 4,
 "nbformat_minor": 5
}
