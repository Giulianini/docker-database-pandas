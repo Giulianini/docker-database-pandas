{
 "cells": [
  {
   "cell_type": "markdown",
   "metadata": {},
   "source": [
    "# Influx DB - Home Assistant"
   ]
  },
  {
   "cell_type": "code",
   "execution_count": 2,
   "metadata": {},
   "outputs": [
    {
     "name": "stdout",
     "output_type": "stream",
     "text": [
      "Requirement already satisfied: influxdb-client in c:\\users\\luca.giulianini\\anaconda3\\envs\\conda-env\\lib\\site-packages (1.27.0)\n",
      "Requirement already satisfied: certifi>=14.05.14 in c:\\users\\luca.giulianini\\anaconda3\\envs\\conda-env\\lib\\site-packages (from influxdb-client) (2022.5.18.1)\n",
      "Requirement already satisfied: rx>=3.0.1 in c:\\users\\luca.giulianini\\anaconda3\\envs\\conda-env\\lib\\site-packages (from influxdb-client) (3.2.0)\n",
      "Requirement already satisfied: urllib3>=1.26.0 in c:\\users\\luca.giulianini\\anaconda3\\envs\\conda-env\\lib\\site-packages (from influxdb-client) (1.26.9)\n",
      "Requirement already satisfied: python-dateutil>=2.5.3 in c:\\users\\luca.giulianini\\anaconda3\\envs\\conda-env\\lib\\site-packages (from influxdb-client) (2.8.2)\n",
      "Requirement already satisfied: pytz>=2019.1 in c:\\users\\luca.giulianini\\anaconda3\\envs\\conda-env\\lib\\site-packages (from influxdb-client) (2021.3)\n",
      "Requirement already satisfied: six>=1.10 in c:\\users\\luca.giulianini\\anaconda3\\envs\\conda-env\\lib\\site-packages (from influxdb-client) (1.16.0)\n",
      "Requirement already satisfied: setuptools>=21.0.0 in c:\\users\\luca.giulianini\\anaconda3\\envs\\conda-env\\lib\\site-packages (from influxdb-client) (61.2.0)\n"
     ]
    }
   ],
   "source": [
    "!pip install influxdb-client"
   ]
  },
  {
   "cell_type": "markdown",
   "metadata": {},
   "source": [
    "#### Connect to Influx server"
   ]
  },
  {
   "cell_type": "code",
   "execution_count": 6,
   "metadata": {},
   "outputs": [],
   "source": [
    "INFLUXDB_TOKEN=\"aTpzugDYTgNk_Q-9CXV2ACQahgS-x-ZigchoQ6F-8L82SZajSflmaJDs3-E-yCe-5Da08_ZpUiMPhuLmtd75qA==\" # My token is different from your, retrieve from influx python interface\n",
    "import influxdb_client, os, time\n",
    "from influxdb_client import InfluxDBClient, Point, WritePrecision\n",
    "from influxdb_client.client.write_api import SYNCHRONOUS\n",
    "\n",
    "token = INFLUXDB_TOKEN\n",
    "org = \"homeassistant\"\n",
    "url = \"http://localhost:8086\"\n",
    "\n",
    "client = influxdb_client.InfluxDBClient(url=url, token=token, org=org)\n"
   ]
  },
  {
   "cell_type": "markdown",
   "metadata": {},
   "source": [
    "### Queries on homeassistant-aggregated (per il bene del vostro pc)"
   ]
  },
  {
   "cell_type": "markdown",
   "metadata": {},
   "source": [
    "#### Load temperature values of my pht sensor in the last 30 days"
   ]
  },
  {
   "cell_type": "code",
   "execution_count": 30,
   "metadata": {},
   "outputs": [
    {
     "name": "stdout",
     "output_type": "stream",
     "text": [
      "Index(['result', 'table', '_start', '_stop', '_time', '_value', '_field',\n",
      "       '_measurement', 'domain', 'entity_id', 'instance', 'source'],\n",
      "      dtype='object')\n",
      "0       21.189744\n",
      "1       21.211538\n",
      "2       21.239474\n",
      "3       21.247222\n",
      "4       21.244118\n",
      "          ...    \n",
      "2510    18.241667\n",
      "2511    18.216667\n",
      "2512    18.169697\n",
      "2513    18.154286\n",
      "2514    18.115385\n",
      "Name: _value, Length: 2515, dtype: float64\n"
     ]
    },
    {
     "data": {
      "text/plain": [
       "<AxesSubplot:xlabel='_time'>"
      ]
     },
     "execution_count": 30,
     "metadata": {},
     "output_type": "execute_result"
    },
    {
     "data": {
      "image/png": "[encoded data removed]",
      "text/plain": [
       "<Figure size 432x288 with 1 Axes>"
      ]
     },
     "metadata": {
      "needs_background": "light"
     },
     "output_type": "display_data"
    }
   ],
   "source": [
    "query=\"\"\"\n",
    "from(bucket: \"homeassistant-aggregated\")\n",
    "  |> range(start: -30d)\n",
    "  |> filter(fn: (r) => r[\"domain\"] == \"sensor\")\n",
    "  |> filter(fn: (r) => r[\"entity_id\"] == \"basement_bed_pht_temperature\")\n",
    "  |> filter(fn: (r) => r[\"_field\"] == \"value\")\n",
    "\"\"\"\n",
    "df_temperature = client.query_api().query_data_frame(query, org=\"homeassistant\")\n",
    "# Examine the columns\n",
    "print(df_temperature.columns)\n",
    "# Print the value column\n",
    "print(df_temperature[\"_value\"])\n",
    "# Display the values\n",
    "df_temperature.set_index(\"_time\")[\"_value\"].plot()"
   ]
  },
  {
   "cell_type": "markdown",
   "metadata": {},
   "source": [
    "#### 1) Exercise: Aggregate\n",
    "Edit the query so that the data is averaged for each day. Do it with influx query not pandas"
   ]
  },
  {
   "cell_type": "markdown",
   "metadata": {},
   "source": [
    "##### Solution"
   ]
  },
  {
   "cell_type": "code",
   "execution_count": 16,
   "metadata": {},
   "outputs": [
    {
     "data": {
      "text/plain": [
       "<AxesSubplot:>"
      ]
     },
     "execution_count": 16,
     "metadata": {},
     "output_type": "execute_result"
    },
    {
     "data": {
      "image/png": "[encoded data removed]",
      "text/plain": [
       "<Figure size 432x288 with 1 Axes>"
      ]
     },
     "metadata": {
      "needs_background": "light"
     },
     "output_type": "display_data"
    }
   ],
   "source": [
    "query=\"\"\"\n",
    "from(bucket: \"homeassistant-aggregated\")\n",
    "  |> range(start: -30d)\n",
    "  |> filter(fn: (r) => r[\"domain\"] == \"sensor\")\n",
    "  |> filter(fn: (r) => r[\"entity_id\"] == \"basement_bed_pht_temperature\")\n",
    "  |> filter(fn: (r) => r[\"_field\"] == \"value\")\n",
    "  |> aggregateWindow(every: 1d, fn: mean)\n",
    "\"\"\"\n",
    "df_temperature = client.query_api().query_data_frame(query, org=\"homeassistant\")\n",
    "# Display the values\n",
    "df_temperature[\"_value\"].plot()"
   ]
  },
  {
   "cell_type": "markdown",
   "metadata": {},
   "source": [
    "#### 2) Exercise: Changes in data\n",
    "Edit the query so that it looks for data value rate of change.\n",
    "What kind of math function looks for a change in data??  "
   ]
  },
  {
   "cell_type": "markdown",
   "metadata": {},
   "source": [
    "##### Solution"
   ]
  },
  {
   "cell_type": "code",
   "execution_count": 39,
   "metadata": {},
   "outputs": [
    {
     "data": {
      "text/plain": [
       "<AxesSubplot:xlabel='_time'>"
      ]
     },
     "execution_count": 39,
     "metadata": {},
     "output_type": "execute_result"
    },
    {
     "data": {
      "image/png": "[encoded data removed]",
      "text/plain": [
       "<Figure size 432x288 with 1 Axes>"
      ]
     },
     "metadata": {
      "needs_background": "light"
     },
     "output_type": "display_data"
    }
   ],
   "source": [
    "query=\"\"\"\n",
    "from(bucket: \"homeassistant-aggregated\")\n",
    "  |> range(start: -30d)\n",
    "  |> filter(fn: (r) => r[\"domain\"] == \"sensor\")\n",
    "  |> filter(fn: (r) => r[\"entity_id\"] == \"basement_bed_pht_temperature\")\n",
    "  |> filter(fn: (r) => r[\"_field\"] == \"value\")\n",
    "  |> derivative(unit: 1s, nonNegative: true, columns: [\"_value\"], timeColumn: \"_time\")\n",
    "\"\"\"\n",
    "df_temperature_changes = client.query_api().query_data_frame(query, org=\"homeassistant\")\n",
    "# Display the values\n",
    "df_temperature_changes.set_index(\"_time\")[\"_value\"].plot()"
   ]
  },
  {
   "cell_type": "markdown",
   "metadata": {},
   "source": [
    "#### 3) Exercise: Averaged changes\n",
    "Average changes so that is clear In which days data is changed most"
   ]
  },
  {
   "cell_type": "markdown",
   "metadata": {},
   "source": [
    "##### Solution"
   ]
  },
  {
   "cell_type": "code",
   "execution_count": 38,
   "metadata": {},
   "outputs": [
    {
     "data": {
      "text/plain": [
       "<AxesSubplot:xlabel='_time'>"
      ]
     },
     "execution_count": 38,
     "metadata": {},
     "output_type": "execute_result"
    },
    {
     "data": {
      "image/png": "[encoded data removed]",
      "text/plain": [
       "<Figure size 432x288 with 1 Axes>"
      ]
     },
     "metadata": {
      "needs_background": "light"
     },
     "output_type": "display_data"
    }
   ],
   "source": [
    "query=\"\"\"\n",
    "from(bucket: \"homeassistant-aggregated\")\n",
    "  |> range(start: -30d)\n",
    "  |> filter(fn: (r) => r[\"domain\"] == \"sensor\")\n",
    "  |> filter(fn: (r) => r[\"entity_id\"] == \"basement_bed_pht_temperature\")\n",
    "  |> filter(fn: (r) => r[\"_field\"] == \"value\")\n",
    "  |> derivative(unit: 1s, nonNegative: true, columns: [\"_value\"], timeColumn: \"_time\")\n",
    "  |> aggregateWindow(every: 5h, fn: max)\n",
    "\"\"\"\n",
    "df_temperature_changes = client.query_api().query_data_frame(query, org=\"homeassistant\")\n",
    "# Display the values\n",
    "df_temperature_changes.set_index(\"_time\")[\"_value\"].plot()"
   ]
  },
  {
   "cell_type": "markdown",
   "metadata": {},
   "source": [
    "#### 4) HARD Exercise: Correlation\n",
    "Compute the correlation between pht_temperature and openweather temperature\n",
    "Correlation works on two columns -> need to create the two columns\n",
    "Some helps:\n",
    "1. Must have uniform time-ranges (10 minutes) -> time truncation\n",
    "2. Decide how to fill holes\n",
    "3. Crate the columns -> pivoting\n",
    "4. Compute correlation -> Pearson correlation"
   ]
  },
  {
   "cell_type": "markdown",
   "metadata": {},
   "source": [
    "##### Solution"
   ]
  },
  {
   "cell_type": "code",
   "execution_count": 37,
   "metadata": {},
   "outputs": [
    {
     "name": "stdout",
     "output_type": "stream",
     "text": [
      "Correlation is: 0.6172505156856504\n"
     ]
    }
   ],
   "source": [
    "query=\"\"\"\n",
    "import \"interpolate\"\n",
    "from(bucket: \"homeassistant-aggregated\")\n",
    "  |> range(start: -30d)\n",
    "  |> filter(fn: (r) => r[\"domain\"] == \"sensor\")\n",
    "  |> filter(fn: (r) => r[\"entity_id\"] == \"basement_bed_pht_temperature\" or r[\"entity_id\"] == \"openweathermap_temperature\")\n",
    "//|> truncateTimeColumn(unit: 10m)\n",
    "  |> interpolate.linear(every: 10m)  \n",
    "  |> fill(column: \"_value\", usePrevious: true)\n",
    "  |> pivot(rowKey:[\"_time\"], columnKey: [\"_field\", \"entity_id\"], valueColumn: \"_value\")\n",
    "  |> covariance(columns: [\"value_basement_bed_pht_temperature\", \"value_openweathermap_temperature\"], pearsonr: true, valueDst: \"_value\")   \n",
    "\"\"\"\n",
    "df_result = client.query_api().query_data_frame(query, org=\"homeassistant\")\n",
    "covariance = df_result[\"_value\"][0]\n",
    "print(f\"Covariance is: {covariance}\")"
   ]
  },
  {
   "cell_type": "markdown",
   "metadata": {},
   "source": [
    "#### 5) Exercise: Compute histogram over temperature bins\n",
    "Group temperatures with upper bounds bins: [15.0, 16.0, 17.0, 18.0, 19.0, 20.0, 21.0, 22.0, 23.0, 24.0, 25.0]\n",
    "\n",
    "For each bin count how many times the temperature goes below that value\n",
    "\n",
    "Influx support the operation by default"
   ]
  },
  {
   "cell_type": "markdown",
   "metadata": {},
   "source": [
    "##### Solution"
   ]
  },
  {
   "cell_type": "code",
   "execution_count": 43,
   "metadata": {},
   "outputs": [
    {
     "name": "stdout",
     "output_type": "stream",
     "text": [
      "      le  _value\n",
      "0   15.0     0.0\n",
      "1   16.0    28.0\n",
      "2   17.0    48.0\n",
      "3   18.0   338.0\n",
      "4   19.0   578.0\n",
      "5   20.0   777.0\n",
      "6   21.0  1314.0\n",
      "7   22.0  2484.0\n",
      "8   23.0  2511.0\n",
      "9   24.0  2511.0\n",
      "10  25.0  2511.0\n"
     ]
    }
   ],
   "source": [
    "query=\"\"\"\n",
    "from(bucket: \"homeassistant-aggregated\")\n",
    "  |> range(start: -30d)\n",
    "  |> filter(fn: (r) => r[\"domain\"] == \"sensor\")\n",
    "  |> filter(fn: (r) => r[\"entity_id\"] == \"basement_bed_pht_temperature\")\n",
    "  |> histogram(column: \"_value\", upperBoundColumn: \"le\", countColumn: \"_value\", bins: [15.0, 16.0, 17.0, 18.0, 19.0, 20.0, 21.0, 22.0, 23.0, 24.0, 25.0], normalize: false)\n",
    "\"\"\"\n",
    "df_result = client.query_api().query_data_frame(query, org=\"homeassistant\")\n",
    "bins = df_result[[\"le\", \"_value\"]]\n",
    "print(bins)"
   ]
  },
  {
   "cell_type": "markdown",
   "metadata": {},
   "source": [
    "#### 6) Exercise: perform union of queries\n",
    "Define two queries\n",
    "- query on basement light truncated every 10 minutes\n",
    "- query on temperature truncated every 10 minutes\n",
    "- union"
   ]
  },
  {
   "cell_type": "markdown",
   "metadata": {},
   "source": [
    "##### Solution"
   ]
  },
  {
   "cell_type": "code",
   "execution_count": 48,
   "metadata": {},
   "outputs": [
    {
     "name": "stdout",
     "output_type": "stream",
     "text": [
      "    result  table _field _measurement                           _start  \\\n",
      "0  _result      0  value        state 2022-10-18 13:14:24.869065+00:00   \n",
      "1  _result      0  value        state 2022-10-18 13:14:24.869065+00:00   \n",
      "\n",
      "                             _stop                     _time  _value domain  \\\n",
      "0 2022-11-17 13:14:24.869065+00:00 2022-10-18 16:50:00+00:00     1.0  light   \n",
      "1 2022-11-17 13:14:24.869065+00:00 2022-10-18 17:50:00+00:00     0.0  light   \n",
      "\n",
      "  entity_id    instance source  \n",
      "0  basement  production     HA  \n",
      "1  basement  production     HA  \n"
     ]
    }
   ],
   "source": [
    "query=\"\"\"\n",
    "light = from(bucket: \"homeassistant-aggregated\")\n",
    "  |> range(start: -30d)\n",
    "  |> filter(fn: (r) => r[\"domain\"] == \"light\")\n",
    "  |> filter(fn: (r) => r[\"entity_id\"] == \"basement\")\n",
    "  |> filter(fn: (r) => r[\"_field\"] == \"value\")\n",
    "  |> truncateTimeColumn(unit: 10m)\n",
    "  \n",
    "temp = from(bucket: \"homeassistant-aggregated\")\n",
    "  |> range(start: -30d)\n",
    "  |> filter(fn: (r) => r[\"domain\"] == \"sensor\")\n",
    "  |> filter(fn: (r) => r[\"entity_id\"] == \"basement_bed_pht_temperature\")\n",
    "  |> filter(fn: (r) => r[\"_field\"] == \"value\")\n",
    "  |> truncateTimeColumn(unit: 10m)\n",
    "\n",
    "// from join(tables: {key1: light, key2: temp}, on: [\"_time\", \"_field\"], method: \"inner\")\n",
    "from union(tables: [light, temp])\n",
    "\"\"\"\n",
    "df_result = client.query_api().query_data_frame(query, org=\"homeassistant\")\n",
    "print(df_result.head(2))"
   ]
  },
  {
   "cell_type": "markdown",
   "metadata": {},
   "source": [
    "#### 7) HARD Exercise: Covariance between bedroom light and spikes in temperature in the room\n",
    "Help:\n",
    "1. Define the two queries\n",
    "2. Truncate each query every 2h\n",
    "3. Fill empty values using best technique\n",
    "    - light -> what to do if there are holes? \n",
    "    - temperature -> we want spikes in the 2h range\n",
    "4. ViewOnly: [View with union]\n",
    "5. Merge with join\n",
    "6. Perform covariance"
   ]
  },
  {
   "cell_type": "markdown",
   "metadata": {},
   "source": [
    "##### Solution"
   ]
  },
  {
   "cell_type": "code",
   "execution_count": 49,
   "metadata": {},
   "outputs": [
    {
     "name": "stdout",
     "output_type": "stream",
     "text": [
      "Covariance is: -0.12893682362406608\n"
     ]
    }
   ],
   "source": [
    "query = \"\"\" \n",
    "light = from(bucket: \"homeassistant-aggregated\")\n",
    "  |> range(start: -10d)\n",
    "  |> filter(fn: (r) => r[\"domain\"] == \"light\")\n",
    "  |> filter(fn: (r) => r[\"entity_id\"] == \"basement_bed_ceil\")\n",
    "  |> filter(fn: (r) => r[\"_field\"] == \"value\")\n",
    "  |> truncateTimeColumn(unit: 2h)\n",
    "  |> fill(column: \"_value\", usePrevious: true)\n",
    "  \n",
    "temp = from(bucket: \"homeassistant-aggregated\")\n",
    "  |> range(start: -10d)\n",
    "  |> filter(fn: (r) => r[\"domain\"] == \"sensor\")\n",
    "  |> filter(fn: (r) => r[\"entity_id\"] == \"basement_bed_pht_temperature\")\n",
    "  |> filter(fn: (r) => r[\"_field\"] == \"value\")\n",
    "  |> truncateTimeColumn(unit: 2h)\n",
    "  |> derivative(unit: 2h, nonNegative: true, columns: [\"_value\"], timeColumn: \"_time\")\n",
    "\n",
    "// Uncomment to view result on influx\n",
    "// union(tables: [light, temp])\n",
    "\n",
    "// Comment to view result on influx\n",
    "from join(tables: {key1: light, key2: temp}, on: [\"_time\", \"_field\"], method: \"inner\")\n",
    "  |> covariance(columns: [\"_value_key1\", \"_value_key2\"], pearsonr: true, valueDst: \"_value\") \n",
    "\n",
    "\"\"\"\n",
    "df_result = client.query_api().query_data_frame(query, org=\"homeassistant\")\n",
    "covariance = df_result[\"_value\"][0]\n",
    "print(f\"Covariance is: {covariance}\")"
   ]
  }
 ],
 "metadata": {
  "kernelspec": {
   "display_name": "Python 3.8.13 ('conda-env')",
   "language": "python",
   "name": "python3"
  },
  "language_info": {
   "codemirror_mode": {
    "name": "ipython",
    "version": 3
   },
   "file_extension": ".py",
   "mimetype": "text/x-python",
   "name": "python",
   "nbconvert_exporter": "python",
   "pygments_lexer": "ipython3",
   "version": "3.8.13"
  },
  "orig_nbformat": 4,
  "vscode": {
   "interpreter": {
    "hash": "6abb31d7ba32fd26b83180b124ea13c4fd3a84910a083981cbdbecc0970bed5f"
   }
  }
 },
 "nbformat": 4,
 "nbformat_minor": 2
}
