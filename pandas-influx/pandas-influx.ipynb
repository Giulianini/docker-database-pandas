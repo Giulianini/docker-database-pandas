{
 "cells": [
  {
   "cell_type": "markdown",
   "metadata": {},
   "source": [
    "# Influx DB"
   ]
  },
  {
   "cell_type": "code",
   "execution_count": 8,
   "metadata": {},
   "outputs": [
    {
     "name": "stdout",
     "output_type": "stream",
     "text": [
      "Requirement already satisfied: influxdb-client in c:\\users\\luca.giulianini\\anaconda3\\envs\\conda-env\\lib\\site-packages (1.27.0)\n",
      "Requirement already satisfied: six>=1.10 in c:\\users\\luca.giulianini\\anaconda3\\envs\\conda-env\\lib\\site-packages (from influxdb-client) (1.16.0)\n",
      "Requirement already satisfied: pytz>=2019.1 in c:\\users\\luca.giulianini\\anaconda3\\envs\\conda-env\\lib\\site-packages (from influxdb-client) (2021.3)\n",
      "Requirement already satisfied: python-dateutil>=2.5.3 in c:\\users\\luca.giulianini\\anaconda3\\envs\\conda-env\\lib\\site-packages (from influxdb-client) (2.8.2)\n",
      "Requirement already satisfied: certifi>=14.05.14 in c:\\users\\luca.giulianini\\anaconda3\\envs\\conda-env\\lib\\site-packages (from influxdb-client) (2022.5.18.1)\n",
      "Requirement already satisfied: rx>=3.0.1 in c:\\users\\luca.giulianini\\anaconda3\\envs\\conda-env\\lib\\site-packages (from influxdb-client) (3.2.0)\n",
      "Requirement already satisfied: setuptools>=21.0.0 in c:\\users\\luca.giulianini\\anaconda3\\envs\\conda-env\\lib\\site-packages (from influxdb-client) (61.2.0)\n",
      "Requirement already satisfied: urllib3>=1.26.0 in c:\\users\\luca.giulianini\\anaconda3\\envs\\conda-env\\lib\\site-packages (from influxdb-client) (1.26.9)\n"
     ]
    }
   ],
   "source": [
    "!pip install influxdb-client"
   ]
  },
  {
   "cell_type": "markdown",
   "metadata": {},
   "source": [
    "## Write some data"
   ]
  },
  {
   "cell_type": "markdown",
   "metadata": {},
   "source": [
    "#### Connect to Influx server"
   ]
  },
  {
   "cell_type": "code",
   "execution_count": 9,
   "metadata": {},
   "outputs": [],
   "source": [
    "INFLUXDB_TOKEN=\"DuT0V2YuYT5z3FMpu6iOcJtQE9RoHYRMlR8BqV4mVVrUJBFoYIJOY7zGE4xJpZ8nglSnxwDNt531685zbwYYuQ==\" # My token is different from your, retrieve from influx python interface\n",
    "import influxdb_client, os, time\n",
    "from influxdb_client import InfluxDBClient, Point, WritePrecision\n",
    "from influxdb_client.client.write_api import SYNCHRONOUS\n",
    "\n",
    "token = INFLUXDB_TOKEN\n",
    "org = \"org\"\n",
    "url = \"http://localhost:8086\"\n",
    "\n",
    "client = influxdb_client.InfluxDBClient(url=url, token=token, org=org)\n"
   ]
  },
  {
   "cell_type": "markdown",
   "metadata": {},
   "source": [
    "#### Write data to the default Home Assistant bucket"
   ]
  },
  {
   "cell_type": "code",
   "execution_count": 10,
   "metadata": {},
   "outputs": [],
   "source": [
    "bucket=\"test\"\n",
    "\n",
    "write_api = client.write_api(write_options=SYNCHRONOUS)\n",
    "   \n",
    "for value in range(5):\n",
    "  point = (\n",
    "    Point(\"measurement1\")\n",
    "    .tag(\"tagname1\", \"tagvalue1\")\n",
    "    .field(\"field1\", value)\n",
    "  )\n",
    "  write_api.write(bucket=bucket, org=\"org\", record=point)\n",
    "  time.sleep(1) # separate points by 1 second"
   ]
  },
  {
   "cell_type": "markdown",
   "metadata": {},
   "source": [
    "#### Execute a query on added data"
   ]
  },
  {
   "cell_type": "code",
   "execution_count": 11,
   "metadata": {},
   "outputs": [
    {
     "name": "stdout",
     "output_type": "stream",
     "text": [
      "FluxRecord() table: 0, {'result': '_result', 'table': 0, '_start': datetime.datetime(2022, 11, 17, 8, 56, 29, 129567, tzinfo=tzutc()), '_stop': datetime.datetime(2022, 11, 17, 9, 6, 29, 129567, tzinfo=tzutc()), '_time': datetime.datetime(2022, 11, 17, 9, 6, 14, 424617, tzinfo=tzutc()), '_value': 0, '_field': 'field1', '_measurement': 'measurement1', 'tagname1': 'tagvalue1'}\n",
      "FluxRecord() table: 0, {'result': '_result', 'table': 0, '_start': datetime.datetime(2022, 11, 17, 8, 56, 29, 129567, tzinfo=tzutc()), '_stop': datetime.datetime(2022, 11, 17, 9, 6, 29, 129567, tzinfo=tzutc()), '_time': datetime.datetime(2022, 11, 17, 9, 6, 15, 575549, tzinfo=tzutc()), '_value': 1, '_field': 'field1', '_measurement': 'measurement1', 'tagname1': 'tagvalue1'}\n",
      "FluxRecord() table: 0, {'result': '_result', 'table': 0, '_start': datetime.datetime(2022, 11, 17, 8, 56, 29, 129567, tzinfo=tzutc()), '_stop': datetime.datetime(2022, 11, 17, 9, 6, 29, 129567, tzinfo=tzutc()), '_time': datetime.datetime(2022, 11, 17, 9, 6, 16, 606533, tzinfo=tzutc()), '_value': 2, '_field': 'field1', '_measurement': 'measurement1', 'tagname1': 'tagvalue1'}\n",
      "FluxRecord() table: 0, {'result': '_result', 'table': 0, '_start': datetime.datetime(2022, 11, 17, 8, 56, 29, 129567, tzinfo=tzutc()), '_stop': datetime.datetime(2022, 11, 17, 9, 6, 29, 129567, tzinfo=tzutc()), '_time': datetime.datetime(2022, 11, 17, 9, 6, 17, 635030, tzinfo=tzutc()), '_value': 3, '_field': 'field1', '_measurement': 'measurement1', 'tagname1': 'tagvalue1'}\n",
      "FluxRecord() table: 0, {'result': '_result', 'table': 0, '_start': datetime.datetime(2022, 11, 17, 8, 56, 29, 129567, tzinfo=tzutc()), '_stop': datetime.datetime(2022, 11, 17, 9, 6, 29, 129567, tzinfo=tzutc()), '_time': datetime.datetime(2022, 11, 17, 9, 6, 18, 710565, tzinfo=tzutc()), '_value': 4, '_field': 'field1', '_measurement': 'measurement1', 'tagname1': 'tagvalue1'}\n",
      "FluxRecord() table: 0, {'result': '_result', 'table': 0, '_start': datetime.datetime(2022, 11, 17, 8, 56, 29, 129567, tzinfo=tzutc()), '_stop': datetime.datetime(2022, 11, 17, 9, 6, 29, 129567, tzinfo=tzutc()), '_time': datetime.datetime(2022, 11, 17, 9, 6, 23, 963118, tzinfo=tzutc()), '_value': 0, '_field': 'field1', '_measurement': 'measurement1', 'tagname1': 'tagvalue1'}\n",
      "FluxRecord() table: 0, {'result': '_result', 'table': 0, '_start': datetime.datetime(2022, 11, 17, 8, 56, 29, 129567, tzinfo=tzutc()), '_stop': datetime.datetime(2022, 11, 17, 9, 6, 29, 129567, tzinfo=tzutc()), '_time': datetime.datetime(2022, 11, 17, 9, 6, 24, 977933, tzinfo=tzutc()), '_value': 1, '_field': 'field1', '_measurement': 'measurement1', 'tagname1': 'tagvalue1'}\n",
      "FluxRecord() table: 0, {'result': '_result', 'table': 0, '_start': datetime.datetime(2022, 11, 17, 8, 56, 29, 129567, tzinfo=tzutc()), '_stop': datetime.datetime(2022, 11, 17, 9, 6, 29, 129567, tzinfo=tzutc()), '_time': datetime.datetime(2022, 11, 17, 9, 6, 25, 995894, tzinfo=tzutc()), '_value': 2, '_field': 'field1', '_measurement': 'measurement1', 'tagname1': 'tagvalue1'}\n",
      "FluxRecord() table: 0, {'result': '_result', 'table': 0, '_start': datetime.datetime(2022, 11, 17, 8, 56, 29, 129567, tzinfo=tzutc()), '_stop': datetime.datetime(2022, 11, 17, 9, 6, 29, 129567, tzinfo=tzutc()), '_time': datetime.datetime(2022, 11, 17, 9, 6, 27, 12657, tzinfo=tzutc()), '_value': 3, '_field': 'field1', '_measurement': 'measurement1', 'tagname1': 'tagvalue1'}\n",
      "FluxRecord() table: 0, {'result': '_result', 'table': 0, '_start': datetime.datetime(2022, 11, 17, 8, 56, 29, 129567, tzinfo=tzutc()), '_stop': datetime.datetime(2022, 11, 17, 9, 6, 29, 129567, tzinfo=tzutc()), '_time': datetime.datetime(2022, 11, 17, 9, 6, 28, 70140, tzinfo=tzutc()), '_value': 4, '_field': 'field1', '_measurement': 'measurement1', 'tagname1': 'tagvalue1'}\n"
     ]
    }
   ],
   "source": [
    "query_api = client.query_api()\n",
    "\n",
    "query = \"\"\"\n",
    "    from(bucket: \"test\")\n",
    "    |> range(start: -10m)\n",
    "    |> filter(fn: (r) => r._measurement == \"measurement1\")\n",
    "\"\"\"\n",
    "tables = query_api.query(query, org=\"org\")\n",
    "\n",
    "for table in tables:\n",
    "  for record in table.records:\n",
    "    print(record)"
   ]
  },
  {
   "cell_type": "markdown",
   "metadata": {},
   "source": [
    "#### Run a query on aggregate data"
   ]
  },
  {
   "cell_type": "code",
   "execution_count": 12,
   "metadata": {},
   "outputs": [
    {
     "name": "stdout",
     "output_type": "stream",
     "text": [
      "FluxRecord() table: 0, {'result': '_result', 'table': 0, '_start': datetime.datetime(2022, 11, 17, 8, 56, 29, 207333, tzinfo=tzutc()), '_stop': datetime.datetime(2022, 11, 17, 9, 6, 29, 207333, tzinfo=tzutc()), '_value': 2.0, '_field': 'field1', '_measurement': 'measurement1', 'tagname1': 'tagvalue1'}\n"
     ]
    }
   ],
   "source": [
    "query_api = client.query_api()\n",
    "\n",
    "query = \"\"\"\n",
    "    from(bucket: \"test\")\n",
    "    |> range(start: -10m)\n",
    "    |> filter(fn: (r) => r._measurement == \"measurement1\")\n",
    "    |> mean()\n",
    "\"\"\"\n",
    "tables = query_api.query(query, org=\"org\")\n",
    "\n",
    "for table in tables:\n",
    "  for record in table.records:\n",
    "    print(record)"
   ]
  }
 ],
 "metadata": {
  "kernelspec": {
   "display_name": "Python 3.8.13 ('conda-env')",
   "language": "python",
   "name": "python3"
  },
  "language_info": {
   "codemirror_mode": {
    "name": "ipython",
    "version": 3
   },
   "file_extension": ".py",
   "mimetype": "text/x-python",
   "name": "python",
   "nbconvert_exporter": "python",
   "pygments_lexer": "ipython3",
   "version": "3.8.13"
  },
  "orig_nbformat": 4,
  "vscode": {
   "interpreter": {
    "hash": "6abb31d7ba32fd26b83180b124ea13c4fd3a84910a083981cbdbecc0970bed5f"
   }
  }
 },
 "nbformat": 4,
 "nbformat_minor": 2
}
