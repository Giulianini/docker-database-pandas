{
 "cells": [
  {
   "cell_type": "markdown",
   "id": "2c0cfad9",
   "metadata": {},
   "source": [
    "#### Connect to MySQL database. \n",
    "We need\n",
    "- Start the DB with docker\n",
    "- Connector/Driver -> pyMySQL\n",
    "- Toolkit -> SQLAlchemy"
   ]
  },
  {
   "cell_type": "code",
   "execution_count": 1,
   "id": "aebc0207",
   "metadata": {},
   "outputs": [
    {
     "name": "stdout",
     "output_type": "stream",
     "text": [
      "Requirement already satisfied: pymysql in c:\\users\\luca.giulianini\\anaconda3\\envs\\conda-env\\lib\\site-packages (1.0.2)\n",
      "Requirement already satisfied: sqlalchemy in c:\\users\\luca.giulianini\\anaconda3\\envs\\conda-env\\lib\\site-packages (1.4.43)\n",
      "Requirement already satisfied: greenlet!=0.4.17 in c:\\users\\luca.giulianini\\anaconda3\\envs\\conda-env\\lib\\site-packages (from sqlalchemy) (2.0.1)\n"
     ]
    }
   ],
   "source": [
    "!pip install pymysql\n",
    "!pip install sqlalchemy"
   ]
  },
  {
   "cell_type": "code",
   "execution_count": 2,
   "id": "92361d30",
   "metadata": {},
   "outputs": [],
   "source": [
    "import sqlalchemy\n",
    "import pandas as pd"
   ]
  },
  {
   "cell_type": "code",
   "execution_count": 3,
   "id": "638d109e",
   "metadata": {},
   "outputs": [
    {
     "name": "stdout",
     "output_type": "stream",
     "text": [
      "Connected: True\n"
     ]
    }
   ],
   "source": [
    "# specify database configurations\n",
    "config = {\n",
    "    'host': 'localhost',\n",
    "    'port': 3306,\n",
    "    'user': 'root',\n",
    "    'password': 'my_password',\n",
    "    'database': 'my_db'\n",
    "}\n",
    "db_user = config.get('user')\n",
    "db_pwd = config.get('password')\n",
    "db_host = config.get('host')\n",
    "db_port = config.get('port')\n",
    "db_name = config.get('database')\n",
    "\n",
    "# connection string\n",
    "connection_str = f'mysql+pymysql://{db_user}:{db_pwd}@{db_host}:{db_port}/{db_name}'\n",
    "\n",
    "# connect to database\n",
    "engine = sqlalchemy.create_engine(connection_str)\n",
    "connection = engine.connect()\n",
    "print(f\"Connected: {not connection.closed}\")\n",
    "# with engine.connect() as connection:\n",
    "#     # do things...\n"
   ]
  },
  {
   "cell_type": "markdown",
   "id": "2eb49e75",
   "metadata": {},
   "source": [
    "#### Import csv files"
   ]
  },
  {
   "cell_type": "code",
   "execution_count": 4,
   "id": "3bcfe34f",
   "metadata": {},
   "outputs": [
    {
     "data": {
      "text/html": [
       "<div>\n",
       "<style scoped>\n",
       "    .dataframe tbody tr th:only-of-type {\n",
       "        vertical-align: middle;\n",
       "    }\n",
       "\n",
       "    .dataframe tbody tr th {\n",
       "        vertical-align: top;\n",
       "    }\n",
       "\n",
       "    .dataframe thead th {\n",
       "        text-align: right;\n",
       "    }\n",
       "</style>\n",
       "<table border=\"1\" class=\"dataframe\">\n",
       "  <thead>\n",
       "    <tr style=\"text-align: right;\">\n",
       "      <th></th>\n",
       "      <th>customerid</th>\n",
       "      <th>firstname</th>\n",
       "      <th>lastname</th>\n",
       "      <th>city</th>\n",
       "      <th>state</th>\n",
       "    </tr>\n",
       "  </thead>\n",
       "  <tbody>\n",
       "    <tr>\n",
       "      <th>0</th>\n",
       "      <td>10101</td>\n",
       "      <td>John</td>\n",
       "      <td>Gray</td>\n",
       "      <td>Lynden</td>\n",
       "      <td>Washington</td>\n",
       "    </tr>\n",
       "    <tr>\n",
       "      <th>1</th>\n",
       "      <td>10298</td>\n",
       "      <td>Leroy</td>\n",
       "      <td>Brown</td>\n",
       "      <td>Pinetop</td>\n",
       "      <td>Arizona</td>\n",
       "    </tr>\n",
       "    <tr>\n",
       "      <th>2</th>\n",
       "      <td>10299</td>\n",
       "      <td>Elroy</td>\n",
       "      <td>Keller</td>\n",
       "      <td>Snoqualmie</td>\n",
       "      <td>Washington</td>\n",
       "    </tr>\n",
       "    <tr>\n",
       "      <th>3</th>\n",
       "      <td>10315</td>\n",
       "      <td>Lisa</td>\n",
       "      <td>Jones</td>\n",
       "      <td>Oshkosh</td>\n",
       "      <td>Wisconsin</td>\n",
       "    </tr>\n",
       "    <tr>\n",
       "      <th>4</th>\n",
       "      <td>10325</td>\n",
       "      <td>Ginger</td>\n",
       "      <td>Schultz</td>\n",
       "      <td>Pocatello</td>\n",
       "      <td>Idaho</td>\n",
       "    </tr>\n",
       "  </tbody>\n",
       "</table>\n",
       "</div>"
      ],
      "text/plain": [
       "   customerid firstname lastname        city       state\n",
       "0       10101      John     Gray      Lynden  Washington\n",
       "1       10298     Leroy    Brown     Pinetop     Arizona\n",
       "2       10299     Elroy   Keller  Snoqualmie  Washington\n",
       "3       10315      Lisa    Jones     Oshkosh   Wisconsin\n",
       "4       10325    Ginger  Schultz   Pocatello       Idaho"
      ]
     },
     "execution_count": 4,
     "metadata": {},
     "output_type": "execute_result"
    }
   ],
   "source": [
    "# Read from tab separated value file\n",
    "df_customers = pd.read_csv(\"customers.tsv\", sep=\"\\t\")\n",
    "df_customers.head()"
   ]
  },
  {
   "cell_type": "code",
   "execution_count": 5,
   "id": "02e21ae8",
   "metadata": {},
   "outputs": [
    {
     "data": {
      "text/html": [
       "<div>\n",
       "<style scoped>\n",
       "    .dataframe tbody tr th:only-of-type {\n",
       "        vertical-align: middle;\n",
       "    }\n",
       "\n",
       "    .dataframe tbody tr th {\n",
       "        vertical-align: top;\n",
       "    }\n",
       "\n",
       "    .dataframe thead th {\n",
       "        text-align: right;\n",
       "    }\n",
       "</style>\n",
       "<table border=\"1\" class=\"dataframe\">\n",
       "  <thead>\n",
       "    <tr style=\"text-align: right;\">\n",
       "      <th></th>\n",
       "      <th>customerid</th>\n",
       "      <th>order_date</th>\n",
       "      <th>item</th>\n",
       "      <th>quantity</th>\n",
       "      <th>price</th>\n",
       "    </tr>\n",
       "  </thead>\n",
       "  <tbody>\n",
       "    <tr>\n",
       "      <th>0</th>\n",
       "      <td>10330</td>\n",
       "      <td>30-Jun-1999</td>\n",
       "      <td>Pogo stick</td>\n",
       "      <td>1</td>\n",
       "      <td>28.0</td>\n",
       "    </tr>\n",
       "    <tr>\n",
       "      <th>1</th>\n",
       "      <td>10101</td>\n",
       "      <td>30-Jun-1999</td>\n",
       "      <td>Raft</td>\n",
       "      <td>1</td>\n",
       "      <td>58.0</td>\n",
       "    </tr>\n",
       "    <tr>\n",
       "      <th>2</th>\n",
       "      <td>10298</td>\n",
       "      <td>01-Jul-1999</td>\n",
       "      <td>Skateboard</td>\n",
       "      <td>1</td>\n",
       "      <td>33.0</td>\n",
       "    </tr>\n",
       "    <tr>\n",
       "      <th>3</th>\n",
       "      <td>10101</td>\n",
       "      <td>01-Jul-1999</td>\n",
       "      <td>Life Vest</td>\n",
       "      <td>4</td>\n",
       "      <td>125.0</td>\n",
       "    </tr>\n",
       "    <tr>\n",
       "      <th>4</th>\n",
       "      <td>10299</td>\n",
       "      <td>06-Jul-1999</td>\n",
       "      <td>Parachute</td>\n",
       "      <td>1</td>\n",
       "      <td>1250.0</td>\n",
       "    </tr>\n",
       "  </tbody>\n",
       "</table>\n",
       "</div>"
      ],
      "text/plain": [
       "   customerid   order_date        item  quantity   price\n",
       "0       10330  30-Jun-1999  Pogo stick         1    28.0\n",
       "1       10101  30-Jun-1999        Raft         1    58.0\n",
       "2       10298  01-Jul-1999  Skateboard         1    33.0\n",
       "3       10101  01-Jul-1999   Life Vest         4   125.0\n",
       "4       10299  06-Jul-1999   Parachute         1  1250.0"
      ]
     },
     "execution_count": 5,
     "metadata": {},
     "output_type": "execute_result"
    }
   ],
   "source": [
    "# Read from tab separated value file\n",
    "df_products = pd.read_csv(\"products.tsv\", sep=\"\\t\")\n",
    "df_products.head()"
   ]
  },
  {
   "cell_type": "markdown",
   "id": "5ca806f2",
   "metadata": {},
   "source": [
    "#### Write tables to database\n",
    "SQLAlchemy will define some extension methods like `to_sql` that integrates to Pandas and add DB features"
   ]
  },
  {
   "cell_type": "code",
   "execution_count": 6,
   "id": "1e487247",
   "metadata": {
    "scrolled": true
   },
   "outputs": [
    {
     "name": "stdout",
     "output_type": "stream",
     "text": [
      "Affected rows: 17\n"
     ]
    }
   ],
   "source": [
    "affected_rows = df_customers.to_sql('customers', engine, if_exists='replace', index=False)\n",
    "print(f\"Affected rows: {affected_rows}\")"
   ]
  },
  {
   "cell_type": "code",
   "execution_count": 7,
   "id": "5afbb855",
   "metadata": {},
   "outputs": [
    {
     "name": "stdout",
     "output_type": "stream",
     "text": [
      "Affected rows: 17\n"
     ]
    }
   ],
   "source": [
    "df_products.to_sql('products', engine, if_exists='replace', index=False)\n",
    "print(f\"Affected rows: {affected_rows}\")"
   ]
  },
  {
   "cell_type": "markdown",
   "id": "bc6ef259",
   "metadata": {},
   "source": [
    "#### Additional parameters\n",
    "\n",
    "**if_exists** – This parameter is used to decide what should be done in case the table already exists in the database. By default, pandas will not be able to write data into this table and will eventually throw an error. You can customize it by providing a value of “REPLACE” if you would like to drop and create a new table every time the code is executed. Also, you can pass a value of “APPEND” if you want to add new records into the table on each execution\n",
    "\n",
    "**schema** – By default, pandas will write data into the default schema for the database. In PostgreSQL, it is the “public” schema, whereas, in SQL Server, it is the “dbo” schema. If you want it to create a table in a different schema, you can add the name of the schema as value to this parameter\n",
    "\n",
    "**index** – This is a Boolean field which adds an INDEX column to the table to uniquely identify each row when the value is set to TRUE\n",
    "\n",
    "**chunksize** – This can be referred to as a batch of data being inserted to the table instead of one row at a time. You can specify an integer value, and that will be the size of the batch that will be used to insert the data. This feature is useful if you have a really large dataset, and you want to bulk insert data\n",
    "\n",
    "**dtype** – This is a dictionary that accepts the column names and their datatypes if we need to explicitly declare the datatypes of the fields that are in the dataframe. The key in the dictionary is the name of the column, and the value is the datatype. This is recommended if you want greater control over declaring the datatypes of your table and do not want to rely upon the module to do it for you"
   ]
  },
  {
   "cell_type": "markdown",
   "id": "0fa01388",
   "metadata": {},
   "source": [
    "#### interact with database"
   ]
  },
  {
   "cell_type": "code",
   "execution_count": 8,
   "id": "1b788761",
   "metadata": {
    "scrolled": false
   },
   "outputs": [
    {
     "data": {
      "text/plain": [
       "<sqlalchemy.engine.cursor.LegacyCursorResult at 0x2562f25eb80>"
      ]
     },
     "execution_count": 8,
     "metadata": {},
     "output_type": "execute_result"
    }
   ],
   "source": [
    "from sqlalchemy import text\n",
    "\n",
    "\n",
    "query = text(\n",
    "\"\"\"\n",
    "    ALTER TABLE `customers` \n",
    "    ADD PRIMARY KEY (`customerid`);\n",
    "\"\"\")\n",
    "connection.execute(query)"
   ]
  },
  {
   "cell_type": "code",
   "execution_count": 9,
   "id": "3f5fdb42",
   "metadata": {},
   "outputs": [
    {
     "data": {
      "text/plain": [
       "<sqlalchemy.engine.cursor.LegacyCursorResult at 0x2562ee11040>"
      ]
     },
     "execution_count": 9,
     "metadata": {},
     "output_type": "execute_result"
    }
   ],
   "source": [
    "from sqlalchemy import text\n",
    "\n",
    "\n",
    "query = text(\n",
    "\"\"\"\n",
    "   ALTER TABLE `products` \n",
    "   ADD FOREIGN KEY (`customerid`) REFERENCES customers(`customerid`);\n",
    "\"\"\")\n",
    "connection.execute(query)"
   ]
  },
  {
   "cell_type": "markdown",
   "id": "c8f36a6e",
   "metadata": {},
   "source": [
    "#### read from database"
   ]
  },
  {
   "cell_type": "code",
   "execution_count": 10,
   "id": "77dd0393",
   "metadata": {},
   "outputs": [],
   "source": [
    "df_customers = pd.read_sql('customers', engine)\n",
    "df_products = pd.read_sql('products', engine)"
   ]
  },
  {
   "cell_type": "code",
   "execution_count": 11,
   "id": "4cb33d5a",
   "metadata": {},
   "outputs": [
    {
     "data": {
      "text/html": [
       "<div>\n",
       "<style scoped>\n",
       "    .dataframe tbody tr th:only-of-type {\n",
       "        vertical-align: middle;\n",
       "    }\n",
       "\n",
       "    .dataframe tbody tr th {\n",
       "        vertical-align: top;\n",
       "    }\n",
       "\n",
       "    .dataframe thead th {\n",
       "        text-align: right;\n",
       "    }\n",
       "</style>\n",
       "<table border=\"1\" class=\"dataframe\">\n",
       "  <thead>\n",
       "    <tr style=\"text-align: right;\">\n",
       "      <th></th>\n",
       "      <th>customerid</th>\n",
       "      <th>firstname</th>\n",
       "      <th>lastname</th>\n",
       "      <th>city</th>\n",
       "      <th>state</th>\n",
       "    </tr>\n",
       "  </thead>\n",
       "  <tbody>\n",
       "    <tr>\n",
       "      <th>0</th>\n",
       "      <td>10101</td>\n",
       "      <td>John</td>\n",
       "      <td>Gray</td>\n",
       "      <td>Lynden</td>\n",
       "      <td>Washington</td>\n",
       "    </tr>\n",
       "    <tr>\n",
       "      <th>1</th>\n",
       "      <td>10298</td>\n",
       "      <td>Leroy</td>\n",
       "      <td>Brown</td>\n",
       "      <td>Pinetop</td>\n",
       "      <td>Arizona</td>\n",
       "    </tr>\n",
       "    <tr>\n",
       "      <th>2</th>\n",
       "      <td>10299</td>\n",
       "      <td>Elroy</td>\n",
       "      <td>Keller</td>\n",
       "      <td>Snoqualmie</td>\n",
       "      <td>Washington</td>\n",
       "    </tr>\n",
       "    <tr>\n",
       "      <th>3</th>\n",
       "      <td>10315</td>\n",
       "      <td>Lisa</td>\n",
       "      <td>Jones</td>\n",
       "      <td>Oshkosh</td>\n",
       "      <td>Wisconsin</td>\n",
       "    </tr>\n",
       "    <tr>\n",
       "      <th>4</th>\n",
       "      <td>10325</td>\n",
       "      <td>Ginger</td>\n",
       "      <td>Schultz</td>\n",
       "      <td>Pocatello</td>\n",
       "      <td>Idaho</td>\n",
       "    </tr>\n",
       "  </tbody>\n",
       "</table>\n",
       "</div>"
      ],
      "text/plain": [
       "   customerid firstname lastname        city       state\n",
       "0       10101      John     Gray      Lynden  Washington\n",
       "1       10298     Leroy    Brown     Pinetop     Arizona\n",
       "2       10299     Elroy   Keller  Snoqualmie  Washington\n",
       "3       10315      Lisa    Jones     Oshkosh   Wisconsin\n",
       "4       10325    Ginger  Schultz   Pocatello       Idaho"
      ]
     },
     "execution_count": 11,
     "metadata": {},
     "output_type": "execute_result"
    }
   ],
   "source": [
    "df_customers.head()"
   ]
  },
  {
   "cell_type": "code",
   "execution_count": 12,
   "id": "cee02d74",
   "metadata": {},
   "outputs": [
    {
     "data": {
      "text/html": [
       "<div>\n",
       "<style scoped>\n",
       "    .dataframe tbody tr th:only-of-type {\n",
       "        vertical-align: middle;\n",
       "    }\n",
       "\n",
       "    .dataframe tbody tr th {\n",
       "        vertical-align: top;\n",
       "    }\n",
       "\n",
       "    .dataframe thead th {\n",
       "        text-align: right;\n",
       "    }\n",
       "</style>\n",
       "<table border=\"1\" class=\"dataframe\">\n",
       "  <thead>\n",
       "    <tr style=\"text-align: right;\">\n",
       "      <th></th>\n",
       "      <th>customerid</th>\n",
       "      <th>order_date</th>\n",
       "      <th>item</th>\n",
       "      <th>quantity</th>\n",
       "      <th>price</th>\n",
       "    </tr>\n",
       "  </thead>\n",
       "  <tbody>\n",
       "    <tr>\n",
       "      <th>0</th>\n",
       "      <td>10330</td>\n",
       "      <td>30-Jun-1999</td>\n",
       "      <td>Pogo stick</td>\n",
       "      <td>1</td>\n",
       "      <td>28.0</td>\n",
       "    </tr>\n",
       "    <tr>\n",
       "      <th>1</th>\n",
       "      <td>10101</td>\n",
       "      <td>30-Jun-1999</td>\n",
       "      <td>Raft</td>\n",
       "      <td>1</td>\n",
       "      <td>58.0</td>\n",
       "    </tr>\n",
       "    <tr>\n",
       "      <th>2</th>\n",
       "      <td>10298</td>\n",
       "      <td>01-Jul-1999</td>\n",
       "      <td>Skateboard</td>\n",
       "      <td>1</td>\n",
       "      <td>33.0</td>\n",
       "    </tr>\n",
       "    <tr>\n",
       "      <th>3</th>\n",
       "      <td>10101</td>\n",
       "      <td>01-Jul-1999</td>\n",
       "      <td>Life Vest</td>\n",
       "      <td>4</td>\n",
       "      <td>125.0</td>\n",
       "    </tr>\n",
       "    <tr>\n",
       "      <th>4</th>\n",
       "      <td>10299</td>\n",
       "      <td>06-Jul-1999</td>\n",
       "      <td>Parachute</td>\n",
       "      <td>1</td>\n",
       "      <td>1250.0</td>\n",
       "    </tr>\n",
       "  </tbody>\n",
       "</table>\n",
       "</div>"
      ],
      "text/plain": [
       "   customerid   order_date        item  quantity   price\n",
       "0       10330  30-Jun-1999  Pogo stick         1    28.0\n",
       "1       10101  30-Jun-1999        Raft         1    58.0\n",
       "2       10298  01-Jul-1999  Skateboard         1    33.0\n",
       "3       10101  01-Jul-1999   Life Vest         4   125.0\n",
       "4       10299  06-Jul-1999   Parachute         1  1250.0"
      ]
     },
     "execution_count": 12,
     "metadata": {},
     "output_type": "execute_result"
    }
   ],
   "source": [
    "df_products.head()"
   ]
  }
 ],
 "metadata": {
  "kernelspec": {
   "display_name": "Python 3.8.13 ('conda-env')",
   "language": "python",
   "name": "python3"
  },
  "language_info": {
   "codemirror_mode": {
    "name": "ipython",
    "version": 3
   },
   "file_extension": ".py",
   "mimetype": "text/x-python",
   "name": "python",
   "nbconvert_exporter": "python",
   "pygments_lexer": "ipython3",
   "version": "3.8.13"
  },
  "vscode": {
   "interpreter": {
    "hash": "6abb31d7ba32fd26b83180b124ea13c4fd3a84910a083981cbdbecc0970bed5f"
   }
  }
 },
 "nbformat": 4,
 "nbformat_minor": 5
}
